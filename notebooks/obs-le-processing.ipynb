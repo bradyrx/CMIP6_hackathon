{
 "cells": [
  {
   "cell_type": "markdown",
   "metadata": {},
   "source": [
    "# Observational Large Ensemble Processing\n",
    "\n",
    "---\n",
    "\n",
    "* Global ensemble mean integrals for the three single model ensembles\n",
    "* Biome averages for the three single model ensembles"
   ]
  },
  {
   "cell_type": "code",
   "execution_count": null,
   "metadata": {},
   "outputs": [],
   "source": [
    "%matplotlib inline\n",
    "import numpy as np\n",
    "import xarray as xr\n",
    "import esm_analysis as ea\n",
    "from glob import glob\n",
    "import proplot as plot\n",
    "import matplotlib.pyplot as plt\n",
    "import yaml\n",
    "from scipy.io import loadmat\n",
    "from matplotlib.patches import Rectangle"
   ]
  },
  {
   "cell_type": "code",
   "execution_count": null,
   "metadata": {},
   "outputs": [],
   "source": [
    "import warnings\n",
    "warnings.simplefilter('ignore', FutureWarning)"
   ]
  },
  {
   "cell_type": "markdown",
   "metadata": {},
   "source": [
    "## Global Ensemble Averages\n",
    "\n",
    "This is straight forward, since we are using the native grid."
   ]
  },
  {
   "cell_type": "markdown",
   "metadata": {},
   "source": [
    "#### CESM2"
   ]
  },
  {
   "cell_type": "code",
   "execution_count": null,
   "metadata": {},
   "outputs": [],
   "source": [
    "basepath = '/global/homes/b/bradyrx/CMIP6_hackathon/processed/CMIP6/'"
   ]
  },
  {
   "cell_type": "code",
   "execution_count": null,
   "metadata": {},
   "outputs": [],
   "source": [
    "ds = xr.open_mfdataset(basepath + 'CESM2*.nc', concat_dim='member')"
   ]
  },
  {
   "cell_type": "code",
   "execution_count": null,
   "metadata": {},
   "outputs": [],
   "source": [
    "ds = ds.mean('member')"
   ]
  },
  {
   "cell_type": "code",
   "execution_count": null,
   "metadata": {},
   "outputs": [],
   "source": [
    "ds.fgco2.attrs['description'] = 'Globally integrated sea-air CO2 flux single model ensemble mean for CESM2'\n",
    "ds.fgco2.attrs['units'] = 'Pg C yr-1'\n",
    "ds.fgco2.attrs['direction'] = 'negative flux is into the ocean'\n",
    "ds.fgco2.attrs['contact'] = 'Riley X. Brady <riley.brady@colorado.edu>'\n",
    "ds.fgco2.attrs['ensemble'] = '11 members of CESM2 rNi1p1f1 for the CMIP6 project'"
   ]
  },
  {
   "cell_type": "code",
   "execution_count": null,
   "metadata": {},
   "outputs": [],
   "source": [
    "ds.to_netcdf('/global/homes/b/bradyrx/CMIP6_hackathon/processed/holly/CESM2_global_ensemble_mean.nc')"
   ]
  },
  {
   "cell_type": "markdown",
   "metadata": {},
   "source": [
    "#### CanESM5: Main Ensemble"
   ]
  },
  {
   "cell_type": "code",
   "execution_count": null,
   "metadata": {},
   "outputs": [],
   "source": [
    "ds = xr.open_mfdataset(basepath + 'CanESM*p1*.nc', concat_dim='member')"
   ]
  },
  {
   "cell_type": "code",
   "execution_count": null,
   "metadata": {},
   "outputs": [],
   "source": [
    "ds = ds.mean('member')"
   ]
  },
  {
   "cell_type": "code",
   "execution_count": null,
   "metadata": {},
   "outputs": [],
   "source": [
    "ds.fgco2.attrs['description'] = 'Globally integrated sea-air CO2 flux single model ensemble mean for CanESM5'\n",
    "ds.fgco2.attrs['units'] = 'Pg C yr-1'\n",
    "ds.fgco2.attrs['direction'] = 'negative flux is into the ocean'\n",
    "ds.fgco2.attrs['contact'] = 'Riley X. Brady <riley.brady@colorado.edu>'\n",
    "ds.fgco2.attrs['ensemble'] = '25 members of CanESM5 rNi1p1f1 for the CMIP6 project'"
   ]
  },
  {
   "cell_type": "code",
   "execution_count": null,
   "metadata": {},
   "outputs": [],
   "source": [
    "ds.to_netcdf('/global/homes/b/bradyrx/CMIP6_hackathon/processed/holly/CanESM5_p1_global_ensemble_mean.nc')"
   ]
  },
  {
   "cell_type": "markdown",
   "metadata": {},
   "source": [
    "#### CanESM5: Second Physics"
   ]
  },
  {
   "cell_type": "code",
   "execution_count": null,
   "metadata": {},
   "outputs": [],
   "source": [
    "ds = xr.open_mfdataset(basepath + 'CanESM*p2*.nc', concat_dim='member')"
   ]
  },
  {
   "cell_type": "code",
   "execution_count": null,
   "metadata": {},
   "outputs": [],
   "source": [
    "ds = ds.mean('member')"
   ]
  },
  {
   "cell_type": "code",
   "execution_count": null,
   "metadata": {},
   "outputs": [],
   "source": [
    "ds.fgco2.attrs['description'] = 'Globally integrated sea-air CO2 flux single model ensemble mean for CanESM5'\n",
    "ds.fgco2.attrs['units'] = 'Pg C yr-1'\n",
    "ds.fgco2.attrs['direction'] = 'negative flux is into the ocean'\n",
    "ds.fgco2.attrs['contact'] = 'Riley X. Brady <riley.brady@colorado.edu>'\n",
    "ds.fgco2.attrs['ensemble'] = '25 members of CanESM5 rNi1p2f1 for the CMIP6 project'"
   ]
  },
  {
   "cell_type": "code",
   "execution_count": null,
   "metadata": {},
   "outputs": [],
   "source": [
    "ds.to_netcdf('/global/homes/b/bradyrx/CMIP6_hackathon/processed/holly/CanESM5_p2_global_ensemble_mean.nc')"
   ]
  },
  {
   "cell_type": "markdown",
   "metadata": {},
   "source": [
    "#### IPSL"
   ]
  },
  {
   "cell_type": "code",
   "execution_count": null,
   "metadata": {},
   "outputs": [],
   "source": [
    "ds = xr.open_mfdataset(basepath + 'IPSL*.nc', concat_dim='member')"
   ]
  },
  {
   "cell_type": "code",
   "execution_count": null,
   "metadata": {},
   "outputs": [],
   "source": [
    "ds = ds.mean('member')"
   ]
  },
  {
   "cell_type": "code",
   "execution_count": null,
   "metadata": {},
   "outputs": [],
   "source": [
    "ds.fgco2.attrs['description'] = 'Globally integrated sea-air CO2 flux single model ensemble mean for IPSL'\n",
    "ds.fgco2.attrs['units'] = 'Pg C yr-1'\n",
    "ds.fgco2.attrs['direction'] = 'negative flux is into the ocean'\n",
    "ds.fgco2.attrs['contact'] = 'Riley X. Brady <riley.brady@colorado.edu>'\n",
    "ds.fgco2.attrs['ensemble'] = '25 members of IPSL-CM6A-LR rNi1p1f1 for the CMIP6 project'"
   ]
  },
  {
   "cell_type": "code",
   "execution_count": null,
   "metadata": {},
   "outputs": [],
   "source": [
    "ds.to_netcdf('/global/homes/b/bradyrx/CMIP6_hackathon/processed/holly/IPSL-CM6A-LR_global_ensemble_mean.nc')"
   ]
  },
  {
   "cell_type": "markdown",
   "metadata": {},
   "source": [
    "#### Plot"
   ]
  },
  {
   "cell_type": "code",
   "execution_count": null,
   "metadata": {},
   "outputs": [],
   "source": [
    "basepath = '/global/homes/b/bradyrx/CMIP6_hackathon/processed/holly/'\n",
    "\n",
    "plot.rc['legend.frameon'] = False\n",
    "plot.rc.small = 13\n",
    "plot.rc.large = 13\n",
    "\n",
    "f, ax = plot.subplots(axwidth=5, aspect=3, legend='b')\n",
    "\n",
    "one, = xr.open_dataset(basepath + 'CESM2_global_ensemble_mean.nc').fgco2.plot(label='CESM2', linewidth=1.5, ax=ax)\n",
    "two, = xr.open_dataset(basepath + 'CanESM5_p1_global_ensemble_mean.nc').fgco2.plot(label='CanESM5 physics 1', linewidth=1.5, ax=ax)\n",
    "three, = xr.open_dataset(basepath + 'CanESM5_p2_global_ensemble_mean.nc').fgco2.plot(label='CanESM5 physics 2', linewidth=1.5, ax=ax)\n",
    "four, = xr.open_dataset(basepath + 'IPSL-CM6A-LR_global_ensemble_mean.nc').fgco2.plot(label='IPSL-CM6A-LR', linewidth=1.5, ax=ax)\n",
    "\n",
    "ax.format(ylabel='Sea-air CO$_{2}$ Flux \\n [Pg C yr$^{-1}$]',\n",
    "          title='Forced Signal Estimates for Global CO$_{2}$ Flux')\n",
    "\n",
    "f.bottompanel.legend([one,two,three,four])\n",
    "\n",
    "#f.save('global_ensemble_means.png', dpi=300, transparent=False)"
   ]
  }
 ],
 "metadata": {
  "kernelspec": {
   "display_name": "python3",
   "language": "python",
   "name": "python3"
  },
  "language_info": {
   "codemirror_mode": {
    "name": "ipython",
    "version": 3
   },
   "file_extension": ".py",
   "mimetype": "text/x-python",
   "name": "python",
   "nbconvert_exporter": "python",
   "pygments_lexer": "ipython3",
   "version": "3.7.3"
  }
 },
 "nbformat": 4,
 "nbformat_minor": 4
}
