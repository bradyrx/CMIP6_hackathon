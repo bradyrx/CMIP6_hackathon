{
 "cells": [
  {
   "cell_type": "markdown",
   "metadata": {},
   "source": [
    "Time-invariant\n",
    "\n",
    "-- does `xarray` hand"
   ]
  },
  {
   "cell_type": "code",
   "execution_count": 1,
   "metadata": {},
   "outputs": [],
   "source": [
    "from sklearn.cluster import KMeans\n",
    "import matplotlib.pyplot as plt\n",
    "import cartopy.crs as ccrs\n",
    "import cartopy.feature as cfeature\n",
    "import numpy as np\n",
    "import pandas as pd\n",
    "import xarray as xr"
   ]
  },
  {
   "cell_type": "code",
   "execution_count": null,
   "metadata": {},
   "outputs": [],
   "source": [
    "# PO4 from NOAA_GFDL\n",
    "po4 = xr.open_dataset('/global/cscratch1/sd/cmip6/CMIP6/CMIP/NOAA-GFDL/GFDL-ESM4/historical/r1i1p1f1/Omon/po4/gr/v20180701/po4_Omon_GFDL-ESM4_historical_r1i1p1f1_gr_199001-200912.nc')['po4'].isel(lev=0)\n",
    "no3 = xr.open_dataset('/global/cscratch1/sd/cmip6/CMIP6/CMIP/NOAA-GFDL/GFDL-ESM4/historical/r1i1p1f1/Omon/no3/gr/v20180701/no3_Omon_GFDL-ESM4_historical_r1i1p1f1_gr_199001-200912.nc')['no3'].isel(lev=0)\n",
    "ds = xr.merge([po4, no3])"
   ]
  },
  {
   "cell_type": "code",
   "execution_count": null,
   "metadata": {},
   "outputs": [],
   "source": [
    "ds_mean = ds.mean('time')\n",
    "ds_mean = ds_mean.stack(grid=['lat', 'lon'])\n",
    "ds_mean = ds_mean.dropna('grid')\n",
    "df = ds_mean.to_array().to_pandas().T"
   ]
  },
  {
   "cell_type": "code",
   "execution_count": 2,
   "metadata": {},
   "outputs": [
    {
     "ename": "NameError",
     "evalue": "name 'df' is not defined",
     "output_type": "error",
     "traceback": [
      "\u001b[0;31m---------------------------------------------------------------------------\u001b[0m",
      "\u001b[0;31mNameError\u001b[0m                                 Traceback (most recent call last)",
      "\u001b[0;32m<ipython-input-2-7d652b5e64a0>\u001b[0m in \u001b[0;36m<module>\u001b[0;34m\u001b[0m\n\u001b[0;32m----> 1\u001b[0;31m \u001b[0mkmeans\u001b[0m \u001b[0;34m=\u001b[0m \u001b[0mKMeans\u001b[0m\u001b[0;34m(\u001b[0m\u001b[0mn_clusters\u001b[0m\u001b[0;34m=\u001b[0m\u001b[0;36m15\u001b[0m\u001b[0;34m,\u001b[0m \u001b[0minit\u001b[0m\u001b[0;34m=\u001b[0m\u001b[0;34m'k-means++'\u001b[0m\u001b[0;34m)\u001b[0m\u001b[0;34m.\u001b[0m\u001b[0mfit\u001b[0m\u001b[0;34m(\u001b[0m\u001b[0mdf\u001b[0m\u001b[0;34m.\u001b[0m\u001b[0mvalues\u001b[0m\u001b[0;34m)\u001b[0m\u001b[0;34m\u001b[0m\u001b[0;34m\u001b[0m\u001b[0m\n\u001b[0m",
      "\u001b[0;31mNameError\u001b[0m: name 'df' is not defined"
     ]
    }
   ],
   "source": [
    "kmeans = KMeans(n_clusters=15, init='k-means++').fit(df.values)"
   ]
  },
  {
   "cell_type": "code",
   "execution_count": null,
   "metadata": {},
   "outputs": [],
   "source": [
    "labels = kmeans.labels_ + 1"
   ]
  },
  {
   "cell_type": "code",
   "execution_count": null,
   "metadata": {},
   "outputs": [],
   "source": [
    "f, ax = plt.subplots(subplot_kw=dict(projection=ccrs.Robinson()))\n",
    "p = ax.scatter(ds_mean.lon, ds_mean.lat, c=labels, vmin=1, vmax=15,\n",
    "               cmap='Set2', zorder=0)\n",
    "plt.colorbar(p)\n",
    "ax.coastlines()"
   ]
  },
  {
   "cell_type": "markdown",
   "metadata": {},
   "source": [
    "Time-varying"
   ]
  },
  {
   "cell_type": "code",
   "execution_count": null,
   "metadata": {},
   "outputs": [],
   "source": [
    "ds_seas = ds.groupby('time.season').mean('time')"
   ]
  },
  {
   "cell_type": "markdown",
   "metadata": {},
   "source": [
    "One season at a time"
   ]
  },
  {
   "cell_type": "code",
   "execution_count": null,
   "metadata": {},
   "outputs": [],
   "source": [
    "kmeans_result = []\n",
    "ds_seas = ds_seas.stack(grid=['lat', 'lon'])\n",
    "ds_seas = ds_seas.dropna('grid')\n",
    "for s in range(4):\n",
    "    temp_df = ds_seas.isel(season=s).to_array().to_pandas().T\n",
    "    kmeans = KMeans(n_clusters=15, init='k-means++').fit(temp_df.values)\n",
    "    kmeans_result.append(kmeans)"
   ]
  },
  {
   "cell_type": "code",
   "execution_count": null,
   "metadata": {},
   "outputs": [],
   "source": [
    "f, axs = plt.subplots(nrows=2, ncols=2, subplot_kw=dict(projection=ccrs.Robinson()),\n",
    "                      figsize=(12, 12))\n",
    "for s, ax in enumerate(axs.ravel()):\n",
    "    result = kmeans_result[s]\n",
    "    labels = result.labels_ + 1\n",
    "    ax.scatter(ds_seas.lon, ds_seas.lat, c=labels, vmin=1, vmax=15,\n",
    "               s=0.5)"
   ]
  },
  {
   "cell_type": "markdown",
   "metadata": {},
   "source": [
    "All at once"
   ]
  },
  {
   "cell_type": "code",
   "execution_count": null,
   "metadata": {},
   "outputs": [],
   "source": [
    "df1 = pd.DataFrame(np.array(ds_seas.po4.T), columns='po4_' + ds_seas.season.values)\n",
    "df2 = pd.DataFrame(np.array(ds_seas.no3.T), columns='no3_' + ds_seas.season.values)\n",
    "df = pd.concat([df1, df2], axis=1)"
   ]
  },
  {
   "cell_type": "code",
   "execution_count": null,
   "metadata": {},
   "outputs": [],
   "source": [
    "kmeans = KMeans(n_clusters=15, init='k-means++').fit(df.values)\n",
    "labels = kmeans.labels_ + 1"
   ]
  },
  {
   "cell_type": "code",
   "execution_count": null,
   "metadata": {},
   "outputs": [],
   "source": [
    "ds_seas['labels'] = ('grid', labels)\n",
    "ds_seas_unstack = ds_seas.unstack('grid')"
   ]
  },
  {
   "cell_type": "code",
   "execution_count": null,
   "metadata": {},
   "outputs": [],
   "source": [
    "ds_seas_unstack.labels.plot(cmap=cmap)"
   ]
  }
 ],
 "metadata": {
  "kernelspec": {
   "display_name": "python3",
   "language": "python",
   "name": "python3"
  },
  "language_info": {
   "codemirror_mode": {
    "name": "ipython",
    "version": 3
   },
   "file_extension": ".py",
   "mimetype": "text/x-python",
   "name": "python",
   "nbconvert_exporter": "python",
   "pygments_lexer": "ipython3",
   "version": "3.7.3"
  }
 },
 "nbformat": 4,
 "nbformat_minor": 4
}
